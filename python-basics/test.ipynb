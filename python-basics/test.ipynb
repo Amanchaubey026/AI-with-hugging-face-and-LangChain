{
 "cells": [
  {
   "cell_type": "markdown",
   "id": "d1279a57",
   "metadata": {},
   "source": [
    "### start"
   ]
  },
  {
   "cell_type": "code",
   "execution_count": 1,
   "id": "6ecc83a5",
   "metadata": {},
   "outputs": [
    {
     "data": {
      "text/plain": [
       "2"
      ]
     },
     "execution_count": 1,
     "metadata": {},
     "output_type": "execute_result"
    }
   ],
   "source": [
    "1+1"
   ]
  },
  {
   "cell_type": "code",
   "execution_count": 2,
   "id": "e98ce7de",
   "metadata": {},
   "outputs": [
    {
     "data": {
      "text/plain": [
       "1"
      ]
     },
     "execution_count": 2,
     "metadata": {},
     "output_type": "execute_result"
    }
   ],
   "source": [
    "3-2"
   ]
  },
  {
   "cell_type": "code",
   "execution_count": 3,
   "id": "e81f747f",
   "metadata": {},
   "outputs": [
    {
     "name": "stdout",
     "output_type": "stream",
     "text": [
      "Hello, World!\n"
     ]
    }
   ],
   "source": [
    "print (\"Hello, World!\")"
   ]
  },
  {
   "cell_type": "code",
   "execution_count": 5,
   "id": "b91180f6",
   "metadata": {},
   "outputs": [
    {
     "name": "stdout",
     "output_type": "stream",
     "text": [
      "Hello, aman!\n",
      "Hello, Aman!\n"
     ]
    }
   ],
   "source": [
    "name = \"aman\"\n",
    "Name = \"Aman\"\n",
    "\n",
    "print(f\"Hello, {name}!\")\n",
    "print(f\"Hello, {Name}!\")"
   ]
  },
  {
   "cell_type": "code",
   "execution_count": 6,
   "id": "1baceef6",
   "metadata": {},
   "outputs": [
    {
     "name": "stdout",
     "output_type": "stream",
     "text": [
      "bada hai 18 se\n"
     ]
    }
   ],
   "source": [
    "##Indentation\n",
    "age  =  18 \n",
    "if age >= 18:\n",
    "    print(\"bada hai 18 se\")\n",
    "else:\n",
    "    print(\"chota hai 18 se\")"
   ]
  },
  {
   "cell_type": "code",
   "execution_count": 9,
   "id": "8b002406",
   "metadata": {},
   "outputs": [
    {
     "name": "stdout",
     "output_type": "stream",
     "text": [
      "55\n"
     ]
    }
   ],
   "source": [
    "##Line continuation\n",
    "total = 1+2+3+4+5+6+7+\\\n",
    "8+9+10\n",
    "\n",
    "print(total)"
   ]
  },
  {
   "cell_type": "code",
   "execution_count": 10,
   "id": "014563d6",
   "metadata": {},
   "outputs": [
    {
     "name": "stdout",
     "output_type": "stream",
     "text": [
      "1 2 26\n"
     ]
    }
   ],
   "source": [
    "## multiple statements in a single line\n",
    "a = 1 ; b = 2; c = 26\n",
    "print(a, b, c)"
   ]
  },
  {
   "cell_type": "code",
   "execution_count": 11,
   "id": "8c09f708",
   "metadata": {},
   "outputs": [],
   "source": [
    "## Ubderstanding the sementics in python\n",
    "# Python is a dynamically typed language, meaning you don't need to declare variable types explicitly.\n",
    "# The interpreter infers the type based on the value assigned to the variable."
   ]
  },
  {
   "cell_type": "code",
   "execution_count": 14,
   "id": "d6b18594",
   "metadata": {},
   "outputs": [
    {
     "name": "stdout",
     "output_type": "stream",
     "text": [
      "<class 'str'>\n",
      "<class 'int'>\n"
     ]
    }
   ],
   "source": [
    "## type inference \n",
    "name = \"aman\"\n",
    "print(type(name))  # <class 'str'>\n",
    "name = 18\n",
    "print(type(name))   # <class 'int'>"
   ]
  },
  {
   "cell_type": "code",
   "execution_count": 15,
   "id": "0487ebdc",
   "metadata": {},
   "outputs": [
    {
     "name": "stdout",
     "output_type": "stream",
     "text": [
      "This is gonna print\n",
      "This will print too\n",
      "This will print too\n"
     ]
    }
   ],
   "source": [
    "if True:\n",
    "    print(\"This is gonna print\")\n",
    "    if False:\n",
    "        print(\"This wont print\")\n",
    "    print(\"This will print too\")\n",
    "print(\"This will print too\")"
   ]
  },
  {
   "cell_type": "code",
   "execution_count": null,
   "id": "aad1a9e3",
   "metadata": {},
   "outputs": [],
   "source": []
  }
 ],
 "metadata": {
  "kernelspec": {
   "display_name": "Python 3",
   "language": "python",
   "name": "python3"
  },
  "language_info": {
   "codemirror_mode": {
    "name": "ipython",
    "version": 3
   },
   "file_extension": ".py",
   "mimetype": "text/x-python",
   "name": "python",
   "nbconvert_exporter": "python",
   "pygments_lexer": "ipython3",
   "version": "3.12.0"
  }
 },
 "nbformat": 4,
 "nbformat_minor": 5
}
